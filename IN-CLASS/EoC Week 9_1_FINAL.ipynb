{
 "cells": [
  {
   "cell_type": "markdown",
   "metadata": {},
   "source": [
    "# Intermediate SQL with SQLite in Python\n",
    "\n",
    "In this lesson, we will work with the **Sakila** database—a sample database originally created by MySQL and ported to SQLite. The Sakila database contains a rich schema (including tables such as `actor`, `film`, `film_actor`, etc.) that provides real-world data to explore advanced SQL techniques.\n",
    "\n",
    "### What You'll Learn:\n",
    "- How to connect to a SQLite database file (`sakila.db`) using Python's `sqlite3` module.\n",
    "- How to explore the Sakila database schema by listing tables and previewing data.\n",
    "- How to write SQL queries using JOINs, aggregate functions, GROUP BY, and HAVING.\n",
    "- How to apply these techniques with partner practice exercises.\n",
    "\n",
    "**Note:** Ensure the `sakila.db` file is in your working directory before running the notebook."
   ]
  },
  {
   "cell_type": "code",
   "execution_count": 8,
   "metadata": {},
   "outputs": [
    {
     "name": "stderr",
     "output_type": "stream",
     "text": [
      "<>:5: SyntaxWarning: invalid escape sequence '\\s'\n",
      "<>:5: SyntaxWarning: invalid escape sequence '\\s'\n",
      "C:\\Users\\sageo\\AppData\\Local\\Temp\\ipykernel_18504\\2946681569.py:5: SyntaxWarning: invalid escape sequence '\\s'\n",
      "  db_path = \"IN-CLASS\\sakila.db\"\n",
      "C:\\Users\\sageo\\AppData\\Local\\Temp\\ipykernel_18504\\2946681569.py:5: SyntaxWarning: invalid escape sequence '\\s'\n",
      "  db_path = \"IN-CLASS\\sakila.db\"\n"
     ]
    },
    {
     "ename": "OperationalError",
     "evalue": "unable to open database file",
     "output_type": "error",
     "traceback": [
      "\u001b[1;31m---------------------------------------------------------------------------\u001b[0m",
      "\u001b[1;31mOperationalError\u001b[0m                          Traceback (most recent call last)",
      "Cell \u001b[1;32mIn[8], line 8\u001b[0m\n\u001b[0;32m      5\u001b[0m db_path \u001b[38;5;241m=\u001b[39m \u001b[38;5;124m\"\u001b[39m\u001b[38;5;124mIN-CLASS\u001b[39m\u001b[38;5;124m\\\u001b[39m\u001b[38;5;124msakila.db\u001b[39m\u001b[38;5;124m\"\u001b[39m\n\u001b[0;32m      7\u001b[0m \u001b[38;5;66;03m# Connect to SQLite database\u001b[39;00m\n\u001b[1;32m----> 8\u001b[0m conn \u001b[38;5;241m=\u001b[39m sqlite3\u001b[38;5;241m.\u001b[39mconnect(db_path)\n\u001b[0;32m      9\u001b[0m \u001b[38;5;28mprint\u001b[39m(\u001b[38;5;124m\"\u001b[39m\u001b[38;5;124mConnected to SQLite Sakila database!\u001b[39m\u001b[38;5;124m\"\u001b[39m)\n",
      "\u001b[1;31mOperationalError\u001b[0m: unable to open database file"
     ]
    }
   ],
   "source": [
    "import sqlite3\n",
    "import pandas as pd\n",
    "\n",
    "# Set the path to the SQLite database\n",
    "db_path = \"IN-CLASS\\sakila.db\"\n",
    "\n",
    "# Connect to SQLite database\n",
    "conn = sqlite3.connect(db_path)\n",
    "print(\"Connected to SQLite Sakila database!\")"
   ]
  },
  {
   "cell_type": "markdown",
   "metadata": {},
   "source": [
    "### Exploring the Database Schema\n",
    "\n",
    "Before diving into queries, it's useful to know which tables are available in the Sakila database. We'll list all tables by querying the SQLite master table."
   ]
  },
  {
   "cell_type": "code",
   "execution_count": 5,
   "metadata": {},
   "outputs": [
    {
     "name": "stdout",
     "output_type": "stream",
     "text": [
      "Tables in the database:\n",
      "Empty DataFrame\n",
      "Columns: [name]\n",
      "Index: []\n"
     ]
    }
   ],
   "source": [
    "# List all tables in the database\n",
    "tables = pd.read_sql(\"\"\"SELECT name \n",
    "                        FROM sqlite_master \n",
    "                        WHERE type='table';\"\"\", conn)\n",
    "\n",
    "print(\"Tables in the database:\")\n",
    "print(tables)"
   ]
  },
  {
   "cell_type": "markdown",
   "metadata": {},
   "source": [
    "### Viewing Sample Data from the 'actor' Table\n",
    "\n",
    "Let's preview a few rows from the `actor` table to see what kind of data it holds.\n",
    "\n",
    "Select the following columns:\n",
    "- actor_id\n",
    "- first_name\n",
    "- last_name\n",
    "\n",
    "Connect two string columns with || ' ' || and create an alias with \"AS\""
   ]
  },
  {
   "cell_type": "code",
   "execution_count": 3,
   "metadata": {},
   "outputs": [
    {
     "ename": "DatabaseError",
     "evalue": "Execution failed on sql 'SELECT actor_id, first_name || ' ' || last_name AS actor_full_name\n                 FROM actor \n                 LIMIT 5;': no such table: actor",
     "output_type": "error",
     "traceback": [
      "\u001b[1;31m---------------------------------------------------------------------------\u001b[0m",
      "\u001b[1;31mOperationalError\u001b[0m                          Traceback (most recent call last)",
      "File \u001b[1;32mc:\\Users\\sageo\\anaconda3\\Lib\\site-packages\\pandas\\io\\sql.py:2674\u001b[0m, in \u001b[0;36mSQLiteDatabase.execute\u001b[1;34m(self, sql, params)\u001b[0m\n\u001b[0;32m   2673\u001b[0m \u001b[38;5;28;01mtry\u001b[39;00m:\n\u001b[1;32m-> 2674\u001b[0m     cur\u001b[38;5;241m.\u001b[39mexecute(sql, \u001b[38;5;241m*\u001b[39margs)\n\u001b[0;32m   2675\u001b[0m     \u001b[38;5;28;01mreturn\u001b[39;00m cur\n",
      "\u001b[1;31mOperationalError\u001b[0m: no such table: actor",
      "\nThe above exception was the direct cause of the following exception:\n",
      "\u001b[1;31mDatabaseError\u001b[0m                             Traceback (most recent call last)",
      "Cell \u001b[1;32mIn[3], line 7\u001b[0m\n\u001b[0;32m      2\u001b[0m query_actor \u001b[38;5;241m=\u001b[39m \u001b[38;5;124m\"\"\"\u001b[39m\u001b[38;5;124mSELECT actor_id, first_name || \u001b[39m\u001b[38;5;124m'\u001b[39m\u001b[38;5;124m \u001b[39m\u001b[38;5;124m'\u001b[39m\u001b[38;5;124m || last_name AS actor_full_name\u001b[39m\n\u001b[0;32m      3\u001b[0m \u001b[38;5;124m                 FROM actor \u001b[39m\n\u001b[0;32m      4\u001b[0m \u001b[38;5;124m                 LIMIT 5;\u001b[39m\u001b[38;5;124m\"\"\"\u001b[39m\n\u001b[0;32m      6\u001b[0m \u001b[38;5;66;03m# Execute the query using pd.read_sql.\u001b[39;00m\n\u001b[1;32m----> 7\u001b[0m df_actor \u001b[38;5;241m=\u001b[39m pd\u001b[38;5;241m.\u001b[39mread_sql(query_actor, conn)\n\u001b[0;32m      9\u001b[0m \u001b[38;5;28mprint\u001b[39m(\u001b[38;5;124m\"\u001b[39m\u001b[38;5;124mSample rows from the \u001b[39m\u001b[38;5;124m'\u001b[39m\u001b[38;5;124mactor\u001b[39m\u001b[38;5;124m'\u001b[39m\u001b[38;5;124m table:\u001b[39m\u001b[38;5;124m\"\u001b[39m)\n\u001b[0;32m     10\u001b[0m \u001b[38;5;28mprint\u001b[39m(df_actor)\n",
      "File \u001b[1;32mc:\\Users\\sageo\\anaconda3\\Lib\\site-packages\\pandas\\io\\sql.py:706\u001b[0m, in \u001b[0;36mread_sql\u001b[1;34m(sql, con, index_col, coerce_float, params, parse_dates, columns, chunksize, dtype_backend, dtype)\u001b[0m\n\u001b[0;32m    704\u001b[0m \u001b[38;5;28;01mwith\u001b[39;00m pandasSQL_builder(con) \u001b[38;5;28;01mas\u001b[39;00m pandas_sql:\n\u001b[0;32m    705\u001b[0m     \u001b[38;5;28;01mif\u001b[39;00m \u001b[38;5;28misinstance\u001b[39m(pandas_sql, SQLiteDatabase):\n\u001b[1;32m--> 706\u001b[0m         \u001b[38;5;28;01mreturn\u001b[39;00m pandas_sql\u001b[38;5;241m.\u001b[39mread_query(\n\u001b[0;32m    707\u001b[0m             sql,\n\u001b[0;32m    708\u001b[0m             index_col\u001b[38;5;241m=\u001b[39mindex_col,\n\u001b[0;32m    709\u001b[0m             params\u001b[38;5;241m=\u001b[39mparams,\n\u001b[0;32m    710\u001b[0m             coerce_float\u001b[38;5;241m=\u001b[39mcoerce_float,\n\u001b[0;32m    711\u001b[0m             parse_dates\u001b[38;5;241m=\u001b[39mparse_dates,\n\u001b[0;32m    712\u001b[0m             chunksize\u001b[38;5;241m=\u001b[39mchunksize,\n\u001b[0;32m    713\u001b[0m             dtype_backend\u001b[38;5;241m=\u001b[39mdtype_backend,\n\u001b[0;32m    714\u001b[0m             dtype\u001b[38;5;241m=\u001b[39mdtype,\n\u001b[0;32m    715\u001b[0m         )\n\u001b[0;32m    717\u001b[0m     \u001b[38;5;28;01mtry\u001b[39;00m:\n\u001b[0;32m    718\u001b[0m         _is_table_name \u001b[38;5;241m=\u001b[39m pandas_sql\u001b[38;5;241m.\u001b[39mhas_table(sql)\n",
      "File \u001b[1;32mc:\\Users\\sageo\\anaconda3\\Lib\\site-packages\\pandas\\io\\sql.py:2738\u001b[0m, in \u001b[0;36mSQLiteDatabase.read_query\u001b[1;34m(self, sql, index_col, coerce_float, parse_dates, params, chunksize, dtype, dtype_backend)\u001b[0m\n\u001b[0;32m   2727\u001b[0m \u001b[38;5;28;01mdef\u001b[39;00m \u001b[38;5;21mread_query\u001b[39m(\n\u001b[0;32m   2728\u001b[0m     \u001b[38;5;28mself\u001b[39m,\n\u001b[0;32m   2729\u001b[0m     sql,\n\u001b[1;32m   (...)\u001b[0m\n\u001b[0;32m   2736\u001b[0m     dtype_backend: DtypeBackend \u001b[38;5;241m|\u001b[39m Literal[\u001b[38;5;124m\"\u001b[39m\u001b[38;5;124mnumpy\u001b[39m\u001b[38;5;124m\"\u001b[39m] \u001b[38;5;241m=\u001b[39m \u001b[38;5;124m\"\u001b[39m\u001b[38;5;124mnumpy\u001b[39m\u001b[38;5;124m\"\u001b[39m,\n\u001b[0;32m   2737\u001b[0m ) \u001b[38;5;241m-\u001b[39m\u001b[38;5;241m>\u001b[39m DataFrame \u001b[38;5;241m|\u001b[39m Iterator[DataFrame]:\n\u001b[1;32m-> 2738\u001b[0m     cursor \u001b[38;5;241m=\u001b[39m \u001b[38;5;28mself\u001b[39m\u001b[38;5;241m.\u001b[39mexecute(sql, params)\n\u001b[0;32m   2739\u001b[0m     columns \u001b[38;5;241m=\u001b[39m [col_desc[\u001b[38;5;241m0\u001b[39m] \u001b[38;5;28;01mfor\u001b[39;00m col_desc \u001b[38;5;129;01min\u001b[39;00m cursor\u001b[38;5;241m.\u001b[39mdescription]\n\u001b[0;32m   2741\u001b[0m     \u001b[38;5;28;01mif\u001b[39;00m chunksize \u001b[38;5;129;01mis\u001b[39;00m \u001b[38;5;129;01mnot\u001b[39;00m \u001b[38;5;28;01mNone\u001b[39;00m:\n",
      "File \u001b[1;32mc:\\Users\\sageo\\anaconda3\\Lib\\site-packages\\pandas\\io\\sql.py:2686\u001b[0m, in \u001b[0;36mSQLiteDatabase.execute\u001b[1;34m(self, sql, params)\u001b[0m\n\u001b[0;32m   2683\u001b[0m     \u001b[38;5;28;01mraise\u001b[39;00m ex \u001b[38;5;28;01mfrom\u001b[39;00m \u001b[38;5;21;01minner_exc\u001b[39;00m\n\u001b[0;32m   2685\u001b[0m ex \u001b[38;5;241m=\u001b[39m DatabaseError(\u001b[38;5;124mf\u001b[39m\u001b[38;5;124m\"\u001b[39m\u001b[38;5;124mExecution failed on sql \u001b[39m\u001b[38;5;124m'\u001b[39m\u001b[38;5;132;01m{\u001b[39;00msql\u001b[38;5;132;01m}\u001b[39;00m\u001b[38;5;124m'\u001b[39m\u001b[38;5;124m: \u001b[39m\u001b[38;5;132;01m{\u001b[39;00mexc\u001b[38;5;132;01m}\u001b[39;00m\u001b[38;5;124m\"\u001b[39m)\n\u001b[1;32m-> 2686\u001b[0m \u001b[38;5;28;01mraise\u001b[39;00m ex \u001b[38;5;28;01mfrom\u001b[39;00m \u001b[38;5;21;01mexc\u001b[39;00m\n",
      "\u001b[1;31mDatabaseError\u001b[0m: Execution failed on sql 'SELECT actor_id, first_name || ' ' || last_name AS actor_full_name\n                 FROM actor \n                 LIMIT 5;': no such table: actor"
     ]
    }
   ],
   "source": [
    "# Define SQL query to fetch the first 5 rows from the actor table.\n",
    "query_actor = \"\"\"SELECT actor_id, first_name || ' ' || last_name AS actor_full_name\n",
    "                 FROM actor \n",
    "                 LIMIT 5;\"\"\"\n",
    "\n",
    "# Execute the query using pd.read_sql.\n",
    "df_actor = pd.read_sql(query_actor, conn)\n",
    "\n",
    "print(\"Sample rows from the 'actor' table:\")\n",
    "print(df_actor)"
   ]
  },
  {
   "cell_type": "markdown",
   "metadata": {},
   "source": [
    "### Viewing Sample Data from the 'film' Table\n",
    "\n",
    "Let's preview a few rows from the `film` table to see what kind of data it holds.\n",
    "\n",
    "Select the following columns:\n",
    "- film_id\n",
    "- title\n",
    "- length\n",
    "- rating"
   ]
  },
  {
   "cell_type": "code",
   "execution_count": 17,
   "metadata": {},
   "outputs": [
    {
     "name": "stdout",
     "output_type": "stream",
     "text": [
      "Sample rows from the 'film' table:\n",
      "   film_id             title  length rating\n",
      "0        1  ACADEMY DINOSAUR      86     PG\n",
      "1        2    ACE GOLDFINGER      48      G\n",
      "2        3  ADAPTATION HOLES      50  NC-17\n",
      "3        4  AFFAIR PREJUDICE     117      G\n",
      "4        5       AFRICAN EGG     130      G\n"
     ]
    }
   ],
   "source": [
    "# Define SQL query to fetch the first 5 rows from the actor table.\n",
    "query_film = \"\"\"SELECT film_id, title, length, rating\n",
    "                 FROM film \n",
    "                 LIMIT 5;\"\"\"\n",
    "\n",
    "# Execute the query using pd.read_sql.\n",
    "df_film = pd.read_sql(query_film, conn)\n",
    "\n",
    "print(\"Sample rows from the 'film' table:\")\n",
    "print(df_film)"
   ]
  },
  {
   "cell_type": "markdown",
   "metadata": {},
   "source": [
    "### Viewing Sample Data from the 'film_actor' Table\n",
    "\n",
    "Let's preview a few rows from the `film_actor` table to see what kind of data it holds.\n",
    "\n",
    "Select all columns."
   ]
  },
  {
   "cell_type": "code",
   "execution_count": 18,
   "metadata": {},
   "outputs": [
    {
     "name": "stdout",
     "output_type": "stream",
     "text": [
      "Sample rows from the 'film' table:\n",
      "   actor_id  film_id          last_update\n",
      "0         1        1  2021-03-06 15:52:45\n",
      "1         1       23  2021-03-06 15:52:45\n",
      "2         1       25  2021-03-06 15:52:45\n",
      "3         1      106  2021-03-06 15:52:45\n",
      "4         1      140  2021-03-06 15:52:45\n"
     ]
    }
   ],
   "source": [
    "# Define SQL query to fetch the first 5 rows from the actor table.\n",
    "query_film_actor = \"\"\"SELECT *\n",
    "                    FROM film_actor \n",
    "                    LIMIT 5;\"\"\"\n",
    "\n",
    "# Execute the query using pd.read_sql.\n",
    "df_film_actor = pd.read_sql(query_film_actor, conn)\n",
    "\n",
    "print(\"Sample rows from the 'film' table:\")\n",
    "print(df_film_actor)"
   ]
  },
  {
   "cell_type": "markdown",
   "metadata": {},
   "source": [
    "### JOIN Query: Actors and Their Films\n",
    "\n",
    "Next, we'll join three tables—`actor`, `film_actor`, and `film`—to list film titles along with the full names of actors who appear in them.\n",
    "\n",
    "- **Tables Involved:**\n",
    "  - `actor`: Contains actor details.\n",
    "  - `film_actor`: A bridge table linking actors to films.\n",
    "  - `film`: Contains film details.\n",
    "\n",
    "The join connects:\n",
    "- `actor.actor_id` with `film_actor.actor_id`\n",
    "- `film_actor.film_id` with `film.film_id`\n",
    "\n",
    "Let's see the first 10 actor-film associations."
   ]
  },
  {
   "cell_type": "code",
   "execution_count": 28,
   "metadata": {},
   "outputs": [
    {
     "name": "stdout",
     "output_type": "stream",
     "text": [
      "Actor - Film Associations (first 10 rows):\n",
      "  first_name last_name                  title\n",
      "0   PENELOPE   GUINESS       ACADEMY DINOSAUR\n",
      "1   PENELOPE   GUINESS   ANACONDA CONFESSIONS\n",
      "2   PENELOPE   GUINESS            ANGELS LIFE\n",
      "3   PENELOPE   GUINESS  BULWORTH COMMANDMENTS\n",
      "4   PENELOPE   GUINESS          CHEAPER CLYDE\n",
      "5   PENELOPE   GUINESS     COLOR PHILADELPHIA\n",
      "6   PENELOPE   GUINESS        ELEPHANT TROJAN\n",
      "7   PENELOPE   GUINESS    GLEAMING JAWBREAKER\n",
      "8   PENELOPE   GUINESS         HUMAN GRAFFITI\n",
      "9   PENELOPE   GUINESS         KING EVOLUTION\n"
     ]
    }
   ],
   "source": [
    "# Define SQL query for actor-film associations.\n",
    "join_query = \"\"\"SELECT a.first_name, a.last_name, f.title\n",
    "                FROM actor AS a\n",
    "                JOIN film_actor AS fa ON a.actor_id = fa.actor_id\n",
    "                JOIN film AS f ON fa.film_id = f.film_id\n",
    "                ORDER BY a.actor_id\n",
    "                LIMIT 10;\n",
    "            \"\"\"\n",
    "\n",
    "# Execute the query using pd.read_sql.\n",
    "df_join = pd.read_sql(join_query, conn)\n",
    "\n",
    "print(\"Actor - Film Associations (first 10 rows):\")\n",
    "print(df_join)"
   ]
  },
  {
   "cell_type": "markdown",
   "metadata": {},
   "source": [
    "### Aggregation Query: Counting Actors per Film\n",
    "\n",
    "Now, we'll count the number of actors featured in each film. This query uses:\n",
    "- **JOIN:** To connect `film` and `film_actor`.\n",
    "- **GROUP BY:** To group data by film title.\n",
    "- **HAVING:** To filter films with more than 3 actors.\n",
    "\n",
    "This helps identify films with larger casts."
   ]
  },
  {
   "cell_type": "code",
   "execution_count": 20,
   "metadata": {},
   "outputs": [
    {
     "name": "stdout",
     "output_type": "stream",
     "text": [
      "Films with more than 3 actors (top 10):\n",
      "               title  actor_count\n",
      "0   LAMBS CINCINATTI           15\n",
      "1          RANDOM GO           13\n",
      "2    MUMMY CREATURES           13\n",
      "3    DRACULA CRYSTAL           13\n",
      "4         CRAZY HOME           13\n",
      "5        CHITTY LOCK           13\n",
      "6  BOONDOCK BALLROOM           13\n",
      "7   TITANIC BOONDOCK           12\n",
      "8        SKY MIRACLE           12\n",
      "9    LONELY ELEPHANT           12\n"
     ]
    }
   ],
   "source": [
    "# Define SQL query for counting actors per film.\n",
    "agg_query = \"\"\"SELECT film.title, COUNT(film_actor.actor_id) AS actor_count\n",
    "               FROM film\n",
    "               JOIN film_actor ON film.film_id = film_actor.film_id\n",
    "               GROUP BY film.title\n",
    "               HAVING actor_count > 3\n",
    "               ORDER BY actor_count DESC\n",
    "               LIMIT 10;\n",
    "               \"\"\"\n",
    "\n",
    "# Execute the query using pd.read_sql.\n",
    "df_agg = pd.read_sql(agg_query, conn)\n",
    "\n",
    "print(\"Films with more than 3 actors (top 10):\")\n",
    "print(df_agg)"
   ]
  },
  {
   "cell_type": "markdown",
   "metadata": {},
   "source": [
    "# Group Exercises\n",
    "- Find a neighbor, yes, move around and make a new friend!\n",
    "- Work through the following practice exercises together."
   ]
  },
  {
   "cell_type": "markdown",
   "metadata": {},
   "source": [
    "# Partner Practice Exercise\n",
    "\n",
    "Now that we've seen several examples of JOINs and aggregation queries, it's time for you to practice with a partner. Complete the following tasks using the Sakila database:\n",
    "\n",
    "1. **Task 1: Write a JOIN Query**\n",
    "   - Write a query to retrieve a list of films along with the full names of the actors (first and last name) who acted in them.\n",
    "   - *Hint:* Join the `film`, `film_actor`, and `actor` tables. Use string concatenation (e.g., `first_name || ' ' || last_name`) for full names.\n",
    "\n",
    "2. **Task 2: Write an Aggregation Query**\n",
    "   - Write a query to find the average film length for each film category.\n",
    "   - *Hint:* Join the `film`, `film_category`, and `category` tables, then use the `AVG()` function with `GROUP BY`.\n",
    "\n",
    "3. **Task 3: Challenge Task (Optional)**\n",
    "   - Combine your results: Write a query to list film titles, the count of actors in each film, and the film category. Filter to show only films with more than 5 actors.\n",
    "   - *Hint:* You might need to use multiple joins and group by both film title and category.\n",
    "\n",
    "Discuss your approaches with your partner, compare your results, and be ready to review a few solutions as a class."
   ]
  },
  {
   "cell_type": "code",
   "execution_count": null,
   "metadata": {},
   "outputs": [
    {
     "name": "stdout",
     "output_type": "stream",
     "text": [
      "Task 1: Films with Actor Full Names (first 20 rows):\n",
      "               title   actor_full_name\n",
      "0   ACADEMY DINOSAUR       JOHNNY CAGE\n",
      "1   ACADEMY DINOSAUR      ROCK DUKAKIS\n",
      "2   ACADEMY DINOSAUR   CHRISTIAN GABLE\n",
      "3   ACADEMY DINOSAUR  PENELOPE GUINESS\n",
      "4   ACADEMY DINOSAUR       MARY KEITEL\n",
      "5   ACADEMY DINOSAUR      OPRAH KILMER\n",
      "6   ACADEMY DINOSAUR      WARREN NOLTE\n",
      "7   ACADEMY DINOSAUR       SANDRA PECK\n",
      "8   ACADEMY DINOSAUR       MENA TEMPLE\n",
      "9   ACADEMY DINOSAUR     LUCILLE TRACY\n",
      "10    ACE GOLDFINGER        CHRIS DEPP\n",
      "11    ACE GOLDFINGER       BOB FAWCETT\n",
      "12    ACE GOLDFINGER      SEAN GUINESS\n",
      "13    ACE GOLDFINGER  MINNIE ZELLWEGER\n",
      "14  ADAPTATION HOLES    JULIANNE DENCH\n",
      "15  ADAPTATION HOLES       BOB FAWCETT\n",
      "16  ADAPTATION HOLES     RAY JOHANSSON\n",
      "17  ADAPTATION HOLES    CAMERON STREEP\n",
      "18  ADAPTATION HOLES     NICK WAHLBERG\n",
      "19  AFFAIR PREJUDICE    SCARLETT DAMON\n"
     ]
    }
   ],
   "source": [
    "# Task 1: Retrieve a list of films along with the full names of the actors.\n",
    "task1_query = \"\"\"\n",
    "SELECT f.title,\n",
    "       a.first_name || ' ' || a.last_name AS actor_full_name\n",
    "FROM film AS f\n",
    "JOIN film_actor AS fa ON f.film_id = fa.film_id\n",
    "JOIN actor AS a ON fa.actor_id = a.actor_id\n",
    "ORDER BY f.title, a.last_name, a.first_name\n",
    "LIMIT 20;\n",
    "\"\"\"\n",
    "\n",
    "# Execute the query using pd.read_sql.\n",
    "df_task1 = pd.read_sql(task1_query, conn)\n",
    "\n",
    "print(\"Task 1: Films with Actor Full Names (first 20 rows):\")\n",
    "print(df_task1)"
   ]
  },
  {
   "cell_type": "code",
   "execution_count": 22,
   "metadata": {},
   "outputs": [
    {
     "name": "stdout",
     "output_type": "stream",
     "text": [
      "Task 2: Average Film Length per Category:\n",
      "   category_name  avg_length\n",
      "0         Sports  128.202703\n",
      "1          Games  127.836066\n",
      "2        Foreign  121.698630\n",
      "3          Drama  120.838710\n",
      "4         Comedy  115.827586\n",
      "5         Family  114.782609\n",
      "6          Music  113.647059\n",
      "7         Travel  113.315789\n",
      "8         Horror  112.482143\n",
      "9       Classics  111.666667\n",
      "10        Action  111.609375\n",
      "11           New  111.126984\n",
      "12     Animation  111.015152\n",
      "13      Children  109.800000\n",
      "14   Documentary  108.750000\n",
      "15        Sci-Fi  108.196721\n"
     ]
    }
   ],
   "source": [
    "# Task 2: Find the average film length for each film category.\n",
    "task2_query = \"\"\"\n",
    "SELECT c.name AS category_name,\n",
    "       AVG(f.length) AS avg_length\n",
    "FROM film AS f\n",
    "JOIN film_category AS fc ON f.film_id = fc.film_id\n",
    "JOIN category AS c ON fc.category_id = c.category_id\n",
    "GROUP BY c.name\n",
    "ORDER BY avg_length DESC;\n",
    "\"\"\"\n",
    "\n",
    "# Execute the query using pd.read_sql.\n",
    "df_task2 = pd.read_sql(task2_query, conn)\n",
    "\n",
    "print(\"Task 2: Average Film Length per Category:\")\n",
    "print(df_task2)"
   ]
  },
  {
   "cell_type": "code",
   "execution_count": 23,
   "metadata": {},
   "outputs": [
    {
     "name": "stdout",
     "output_type": "stream",
     "text": [
      "Task 3: Films with more than 5 Actors (showing film title, actor count, category):\n",
      "                 title  actor_count category_name\n",
      "0     LAMBS CINCINATTI           15         Games\n",
      "1    BOONDOCK BALLROOM           13        Travel\n",
      "2          CHITTY LOCK           13         Drama\n",
      "3           CRAZY HOME           13        Comedy\n",
      "4      DRACULA CRYSTAL           13      Classics\n",
      "..                 ...          ...           ...\n",
      "451          WIFE TURN            6   Documentary\n",
      "452      WOLVES DESIRE            6        Travel\n",
      "453       WORDS HUNTER            6         Music\n",
      "454      WYOMING STORM            6           New\n",
      "455       ZHIVAGO CORE            6        Horror\n",
      "\n",
      "[456 rows x 3 columns]\n"
     ]
    }
   ],
   "source": [
    "# Task 3: List film titles, count of actors, and film category for films with more than 5 actors.\n",
    "task3_query = \"\"\"\n",
    "SELECT f.title,\n",
    "       COUNT(DISTINCT fa.actor_id) AS actor_count,\n",
    "       c.name AS category_name\n",
    "FROM film AS f\n",
    "JOIN film_actor AS fa ON f.film_id = fa.film_id\n",
    "JOIN film_category AS fc ON f.film_id = fc.film_id\n",
    "JOIN category AS c ON fc.category_id = c.category_id\n",
    "GROUP BY f.title, c.name\n",
    "HAVING actor_count > 5\n",
    "ORDER BY actor_count DESC;\n",
    "\"\"\"\n",
    "\n",
    "# Execute the query using pd.read_sql.\n",
    "df_task3 = pd.read_sql(task3_query, conn)\n",
    "\n",
    "print(\"Task 3: Films with more than 5 Actors (showing film title, actor count, category):\")\n",
    "print(df_task3)"
   ]
  },
  {
   "cell_type": "markdown",
   "metadata": {},
   "source": [
    "## Close the connection to the database.\n",
    "Always close the connection when you're done to free up resources."
   ]
  },
  {
   "cell_type": "code",
   "execution_count": 24,
   "metadata": {},
   "outputs": [],
   "source": [
    "# Close the connection\n",
    "#conn.close()"
   ]
  }
 ],
 "metadata": {
  "kernelspec": {
   "display_name": "base",
   "language": "python",
   "name": "python3"
  },
  "language_info": {
   "codemirror_mode": {
    "name": "ipython",
    "version": 3
   },
   "file_extension": ".py",
   "mimetype": "text/x-python",
   "name": "python",
   "nbconvert_exporter": "python",
   "pygments_lexer": "ipython3",
   "version": "3.12.7"
  }
 },
 "nbformat": 4,
 "nbformat_minor": 2
}
